{
 "cells": [
  {
   "cell_type": "code",
   "execution_count": 1,
   "id": "181296c2",
   "metadata": {
    "_cell_guid": "b1076dfc-b9ad-4769-8c92-a6c4dae69d19",
    "_uuid": "8f2839f25d086af736a60e9eeb907d3b93b6e0e5",
    "execution": {
     "iopub.execute_input": "2025-09-07T12:44:33.335154Z",
     "iopub.status.busy": "2025-09-07T12:44:33.334790Z",
     "iopub.status.idle": "2025-09-07T12:44:35.467994Z",
     "shell.execute_reply": "2025-09-07T12:44:35.466861Z"
    },
    "papermill": {
     "duration": 2.143683,
     "end_time": "2025-09-07T12:44:35.469694",
     "exception": false,
     "start_time": "2025-09-07T12:44:33.326011",
     "status": "completed"
    },
    "tags": []
   },
   "outputs": [
    {
     "name": "stdout",
     "output_type": "stream",
     "text": [
      "/kaggle/input/titanic/train.csv\n",
      "/kaggle/input/titanic/test.csv\n",
      "/kaggle/input/titanic/gender_submission.csv\n"
     ]
    }
   ],
   "source": [
    "# This Python 3 environment comes with many helpful analytics libraries installed\n",
    "# It is defined by the kaggle/python Docker image: https://github.com/kaggle/docker-python\n",
    "# For example, here's several helpful packages to load\n",
    "\n",
    "import numpy as np # linear algebra\n",
    "import pandas as pd # data processing, CSV file I/O (e.g. pd.read_csv)\n",
    "\n",
    "# Input data files are available in the read-only \"../input/\" directory\n",
    "# For example, running this (by clicking run or pressing Shift+Enter) will list all files under the input directory\n",
    "\n",
    "import os\n",
    "for dirname, _, filenames in os.walk('/kaggle/input'):\n",
    "    for filename in filenames:\n",
    "        print(os.path.join(dirname, filename))\n",
    "\n",
    "# You can write up to 20GB to the current directory (/kaggle/working/) that gets preserved as output when you create a version using \"Save & Run All\" \n",
    "# You can also write temporary files to /kaggle/temp/, but they won't be saved outside of the current session"
   ]
  },
  {
   "cell_type": "markdown",
   "id": "e0a080f5",
   "metadata": {
    "papermill": {
     "duration": 0.004885,
     "end_time": "2025-09-07T12:44:35.480556",
     "exception": false,
     "start_time": "2025-09-07T12:44:35.475671",
     "status": "completed"
    },
    "tags": []
   },
   "source": [
    "# Titanic Survival prediction model \n",
    "**Objective**\n",
    "\n",
    "To predict whether a passenger survived the Titanic disaster using machine learning, based on features like age, sex, class, and fare."
   ]
  },
  {
   "cell_type": "markdown",
   "id": "2e7f8a20",
   "metadata": {
    "papermill": {
     "duration": 0.005372,
     "end_time": "2025-09-07T12:44:35.490931",
     "exception": false,
     "start_time": "2025-09-07T12:44:35.485559",
     "status": "completed"
    },
    "tags": []
   },
   "source": [
    "# **About the dataset**\n",
    "\n",
    "-Source: Kaggle Titanic Dataset\n",
    "\n",
    "-files used: train.csv, test.csv\n",
    "\n",
    "**Key Features:**\n",
    "\n",
    "1.Pclass: Passenger class (1st, 2nd, 3rd)\n",
    "\n",
    "2.Sex: Gender\n",
    "\n",
    "3.Age: Age in years\n",
    "\n",
    "4.SibSp: Number of siblings/spouses aboard\n",
    "\n",
    "5.Parch: Number of parents/children aboard\n",
    "\n",
    "6.Fare: Ticket fare\n",
    "\n",
    "7.Embarked: Port of embarkation\n",
    "\n",
    "8.Survived: Target variable (0 = No, 1 = Yes)"
   ]
  },
  {
   "cell_type": "markdown",
   "id": "5a77e4ab",
   "metadata": {
    "papermill": {
     "duration": 0.00482,
     "end_time": "2025-09-07T12:44:35.500815",
     "exception": false,
     "start_time": "2025-09-07T12:44:35.495995",
     "status": "completed"
    },
    "tags": []
   },
   "source": [
    "# Load the data"
   ]
  },
  {
   "cell_type": "code",
   "execution_count": 2,
   "id": "929a31a6",
   "metadata": {
    "execution": {
     "iopub.execute_input": "2025-09-07T12:44:35.512398Z",
     "iopub.status.busy": "2025-09-07T12:44:35.511958Z",
     "iopub.status.idle": "2025-09-07T12:44:37.538183Z",
     "shell.execute_reply": "2025-09-07T12:44:37.536917Z"
    },
    "papermill": {
     "duration": 2.034154,
     "end_time": "2025-09-07T12:44:37.539907",
     "exception": false,
     "start_time": "2025-09-07T12:44:35.505753",
     "status": "completed"
    },
    "tags": []
   },
   "outputs": [],
   "source": [
    "from sklearn.linear_model import LogisticRegression\n",
    "train_df=pd.read_csv(\"/kaggle/input/titanic/train.csv\")\n",
    "test_df=pd.read_csv(\"/kaggle/input/titanic/test.csv\")\n",
    "\n"
   ]
  },
  {
   "cell_type": "markdown",
   "id": "9a10cadb",
   "metadata": {
    "papermill": {
     "duration": 0.004803,
     "end_time": "2025-09-07T12:44:37.549846",
     "exception": false,
     "start_time": "2025-09-07T12:44:37.545043",
     "status": "completed"
    },
    "tags": []
   },
   "source": [
    "So let's take a look at our train and test data ."
   ]
  },
  {
   "cell_type": "code",
   "execution_count": 3,
   "id": "805bea74",
   "metadata": {
    "execution": {
     "iopub.execute_input": "2025-09-07T12:44:37.561788Z",
     "iopub.status.busy": "2025-09-07T12:44:37.561363Z",
     "iopub.status.idle": "2025-09-07T12:44:37.592216Z",
     "shell.execute_reply": "2025-09-07T12:44:37.591364Z"
    },
    "papermill": {
     "duration": 0.039,
     "end_time": "2025-09-07T12:44:37.593755",
     "exception": false,
     "start_time": "2025-09-07T12:44:37.554755",
     "status": "completed"
    },
    "tags": []
   },
   "outputs": [
    {
     "data": {
      "text/html": [
       "<div>\n",
       "<style scoped>\n",
       "    .dataframe tbody tr th:only-of-type {\n",
       "        vertical-align: middle;\n",
       "    }\n",
       "\n",
       "    .dataframe tbody tr th {\n",
       "        vertical-align: top;\n",
       "    }\n",
       "\n",
       "    .dataframe thead th {\n",
       "        text-align: right;\n",
       "    }\n",
       "</style>\n",
       "<table border=\"1\" class=\"dataframe\">\n",
       "  <thead>\n",
       "    <tr style=\"text-align: right;\">\n",
       "      <th></th>\n",
       "      <th>PassengerId</th>\n",
       "      <th>Survived</th>\n",
       "      <th>Pclass</th>\n",
       "      <th>Name</th>\n",
       "      <th>Sex</th>\n",
       "      <th>Age</th>\n",
       "      <th>SibSp</th>\n",
       "      <th>Parch</th>\n",
       "      <th>Ticket</th>\n",
       "      <th>Fare</th>\n",
       "      <th>Cabin</th>\n",
       "      <th>Embarked</th>\n",
       "    </tr>\n",
       "  </thead>\n",
       "  <tbody>\n",
       "    <tr>\n",
       "      <th>0</th>\n",
       "      <td>1</td>\n",
       "      <td>0</td>\n",
       "      <td>3</td>\n",
       "      <td>Braund, Mr. Owen Harris</td>\n",
       "      <td>male</td>\n",
       "      <td>22.0</td>\n",
       "      <td>1</td>\n",
       "      <td>0</td>\n",
       "      <td>A/5 21171</td>\n",
       "      <td>7.2500</td>\n",
       "      <td>NaN</td>\n",
       "      <td>S</td>\n",
       "    </tr>\n",
       "    <tr>\n",
       "      <th>1</th>\n",
       "      <td>2</td>\n",
       "      <td>1</td>\n",
       "      <td>1</td>\n",
       "      <td>Cumings, Mrs. John Bradley (Florence Briggs Th...</td>\n",
       "      <td>female</td>\n",
       "      <td>38.0</td>\n",
       "      <td>1</td>\n",
       "      <td>0</td>\n",
       "      <td>PC 17599</td>\n",
       "      <td>71.2833</td>\n",
       "      <td>C85</td>\n",
       "      <td>C</td>\n",
       "    </tr>\n",
       "    <tr>\n",
       "      <th>2</th>\n",
       "      <td>3</td>\n",
       "      <td>1</td>\n",
       "      <td>3</td>\n",
       "      <td>Heikkinen, Miss. Laina</td>\n",
       "      <td>female</td>\n",
       "      <td>26.0</td>\n",
       "      <td>0</td>\n",
       "      <td>0</td>\n",
       "      <td>STON/O2. 3101282</td>\n",
       "      <td>7.9250</td>\n",
       "      <td>NaN</td>\n",
       "      <td>S</td>\n",
       "    </tr>\n",
       "    <tr>\n",
       "      <th>3</th>\n",
       "      <td>4</td>\n",
       "      <td>1</td>\n",
       "      <td>1</td>\n",
       "      <td>Futrelle, Mrs. Jacques Heath (Lily May Peel)</td>\n",
       "      <td>female</td>\n",
       "      <td>35.0</td>\n",
       "      <td>1</td>\n",
       "      <td>0</td>\n",
       "      <td>113803</td>\n",
       "      <td>53.1000</td>\n",
       "      <td>C123</td>\n",
       "      <td>S</td>\n",
       "    </tr>\n",
       "    <tr>\n",
       "      <th>4</th>\n",
       "      <td>5</td>\n",
       "      <td>0</td>\n",
       "      <td>3</td>\n",
       "      <td>Allen, Mr. William Henry</td>\n",
       "      <td>male</td>\n",
       "      <td>35.0</td>\n",
       "      <td>0</td>\n",
       "      <td>0</td>\n",
       "      <td>373450</td>\n",
       "      <td>8.0500</td>\n",
       "      <td>NaN</td>\n",
       "      <td>S</td>\n",
       "    </tr>\n",
       "  </tbody>\n",
       "</table>\n",
       "</div>"
      ],
      "text/plain": [
       "   PassengerId  Survived  Pclass  \\\n",
       "0            1         0       3   \n",
       "1            2         1       1   \n",
       "2            3         1       3   \n",
       "3            4         1       1   \n",
       "4            5         0       3   \n",
       "\n",
       "                                                Name     Sex   Age  SibSp  \\\n",
       "0                            Braund, Mr. Owen Harris    male  22.0      1   \n",
       "1  Cumings, Mrs. John Bradley (Florence Briggs Th...  female  38.0      1   \n",
       "2                             Heikkinen, Miss. Laina  female  26.0      0   \n",
       "3       Futrelle, Mrs. Jacques Heath (Lily May Peel)  female  35.0      1   \n",
       "4                           Allen, Mr. William Henry    male  35.0      0   \n",
       "\n",
       "   Parch            Ticket     Fare Cabin Embarked  \n",
       "0      0         A/5 21171   7.2500   NaN        S  \n",
       "1      0          PC 17599  71.2833   C85        C  \n",
       "2      0  STON/O2. 3101282   7.9250   NaN        S  \n",
       "3      0            113803  53.1000  C123        S  \n",
       "4      0            373450   8.0500   NaN        S  "
      ]
     },
     "execution_count": 3,
     "metadata": {},
     "output_type": "execute_result"
    }
   ],
   "source": [
    "train_df.head()"
   ]
  },
  {
   "cell_type": "code",
   "execution_count": 4,
   "id": "88860901",
   "metadata": {
    "execution": {
     "iopub.execute_input": "2025-09-07T12:44:37.605678Z",
     "iopub.status.busy": "2025-09-07T12:44:37.605346Z",
     "iopub.status.idle": "2025-09-07T12:44:37.617963Z",
     "shell.execute_reply": "2025-09-07T12:44:37.617176Z"
    },
    "papermill": {
     "duration": 0.020285,
     "end_time": "2025-09-07T12:44:37.619421",
     "exception": false,
     "start_time": "2025-09-07T12:44:37.599136",
     "status": "completed"
    },
    "tags": []
   },
   "outputs": [
    {
     "data": {
      "text/html": [
       "<div>\n",
       "<style scoped>\n",
       "    .dataframe tbody tr th:only-of-type {\n",
       "        vertical-align: middle;\n",
       "    }\n",
       "\n",
       "    .dataframe tbody tr th {\n",
       "        vertical-align: top;\n",
       "    }\n",
       "\n",
       "    .dataframe thead th {\n",
       "        text-align: right;\n",
       "    }\n",
       "</style>\n",
       "<table border=\"1\" class=\"dataframe\">\n",
       "  <thead>\n",
       "    <tr style=\"text-align: right;\">\n",
       "      <th></th>\n",
       "      <th>PassengerId</th>\n",
       "      <th>Pclass</th>\n",
       "      <th>Name</th>\n",
       "      <th>Sex</th>\n",
       "      <th>Age</th>\n",
       "      <th>SibSp</th>\n",
       "      <th>Parch</th>\n",
       "      <th>Ticket</th>\n",
       "      <th>Fare</th>\n",
       "      <th>Cabin</th>\n",
       "      <th>Embarked</th>\n",
       "    </tr>\n",
       "  </thead>\n",
       "  <tbody>\n",
       "    <tr>\n",
       "      <th>0</th>\n",
       "      <td>892</td>\n",
       "      <td>3</td>\n",
       "      <td>Kelly, Mr. James</td>\n",
       "      <td>male</td>\n",
       "      <td>34.5</td>\n",
       "      <td>0</td>\n",
       "      <td>0</td>\n",
       "      <td>330911</td>\n",
       "      <td>7.8292</td>\n",
       "      <td>NaN</td>\n",
       "      <td>Q</td>\n",
       "    </tr>\n",
       "    <tr>\n",
       "      <th>1</th>\n",
       "      <td>893</td>\n",
       "      <td>3</td>\n",
       "      <td>Wilkes, Mrs. James (Ellen Needs)</td>\n",
       "      <td>female</td>\n",
       "      <td>47.0</td>\n",
       "      <td>1</td>\n",
       "      <td>0</td>\n",
       "      <td>363272</td>\n",
       "      <td>7.0000</td>\n",
       "      <td>NaN</td>\n",
       "      <td>S</td>\n",
       "    </tr>\n",
       "    <tr>\n",
       "      <th>2</th>\n",
       "      <td>894</td>\n",
       "      <td>2</td>\n",
       "      <td>Myles, Mr. Thomas Francis</td>\n",
       "      <td>male</td>\n",
       "      <td>62.0</td>\n",
       "      <td>0</td>\n",
       "      <td>0</td>\n",
       "      <td>240276</td>\n",
       "      <td>9.6875</td>\n",
       "      <td>NaN</td>\n",
       "      <td>Q</td>\n",
       "    </tr>\n",
       "    <tr>\n",
       "      <th>3</th>\n",
       "      <td>895</td>\n",
       "      <td>3</td>\n",
       "      <td>Wirz, Mr. Albert</td>\n",
       "      <td>male</td>\n",
       "      <td>27.0</td>\n",
       "      <td>0</td>\n",
       "      <td>0</td>\n",
       "      <td>315154</td>\n",
       "      <td>8.6625</td>\n",
       "      <td>NaN</td>\n",
       "      <td>S</td>\n",
       "    </tr>\n",
       "    <tr>\n",
       "      <th>4</th>\n",
       "      <td>896</td>\n",
       "      <td>3</td>\n",
       "      <td>Hirvonen, Mrs. Alexander (Helga E Lindqvist)</td>\n",
       "      <td>female</td>\n",
       "      <td>22.0</td>\n",
       "      <td>1</td>\n",
       "      <td>1</td>\n",
       "      <td>3101298</td>\n",
       "      <td>12.2875</td>\n",
       "      <td>NaN</td>\n",
       "      <td>S</td>\n",
       "    </tr>\n",
       "  </tbody>\n",
       "</table>\n",
       "</div>"
      ],
      "text/plain": [
       "   PassengerId  Pclass                                          Name     Sex  \\\n",
       "0          892       3                              Kelly, Mr. James    male   \n",
       "1          893       3              Wilkes, Mrs. James (Ellen Needs)  female   \n",
       "2          894       2                     Myles, Mr. Thomas Francis    male   \n",
       "3          895       3                              Wirz, Mr. Albert    male   \n",
       "4          896       3  Hirvonen, Mrs. Alexander (Helga E Lindqvist)  female   \n",
       "\n",
       "    Age  SibSp  Parch   Ticket     Fare Cabin Embarked  \n",
       "0  34.5      0      0   330911   7.8292   NaN        Q  \n",
       "1  47.0      1      0   363272   7.0000   NaN        S  \n",
       "2  62.0      0      0   240276   9.6875   NaN        Q  \n",
       "3  27.0      0      0   315154   8.6625   NaN        S  \n",
       "4  22.0      1      1  3101298  12.2875   NaN        S  "
      ]
     },
     "execution_count": 4,
     "metadata": {},
     "output_type": "execute_result"
    }
   ],
   "source": [
    "test_df.head()"
   ]
  },
  {
   "cell_type": "markdown",
   "id": "334f1c27",
   "metadata": {
    "papermill": {
     "duration": 0.005198,
     "end_time": "2025-09-07T12:44:37.630226",
     "exception": false,
     "start_time": "2025-09-07T12:44:37.625028",
     "status": "completed"
    },
    "tags": []
   },
   "source": [
    "# **Data Preprocessing**\n",
    "\n",
    "-Handling missing values:\n",
    "\n",
    "-Imputed Age  and Fare using median \n",
    "\n",
    "Convert categorical variable: Sex → one-hot encoding"
   ]
  },
  {
   "cell_type": "markdown",
   "id": "ea8799df",
   "metadata": {
    "papermill": {
     "duration": 0.005151,
     "end_time": "2025-09-07T12:44:37.641323",
     "exception": false,
     "start_time": "2025-09-07T12:44:37.636172",
     "status": "completed"
    },
    "tags": []
   },
   "source": [
    "Let us find the missing values of our train and test data\n"
   ]
  },
  {
   "cell_type": "code",
   "execution_count": 5,
   "id": "5cc70780",
   "metadata": {
    "execution": {
     "iopub.execute_input": "2025-09-07T12:44:37.653138Z",
     "iopub.status.busy": "2025-09-07T12:44:37.652842Z",
     "iopub.status.idle": "2025-09-07T12:44:37.660966Z",
     "shell.execute_reply": "2025-09-07T12:44:37.660031Z"
    },
    "papermill": {
     "duration": 0.015875,
     "end_time": "2025-09-07T12:44:37.662456",
     "exception": false,
     "start_time": "2025-09-07T12:44:37.646581",
     "status": "completed"
    },
    "tags": []
   },
   "outputs": [
    {
     "data": {
      "text/plain": [
       "PassengerId      0\n",
       "Survived         0\n",
       "Pclass           0\n",
       "Name             0\n",
       "Sex              0\n",
       "Age            177\n",
       "SibSp            0\n",
       "Parch            0\n",
       "Ticket           0\n",
       "Fare             0\n",
       "Cabin          687\n",
       "Embarked         2\n",
       "dtype: int64"
      ]
     },
     "execution_count": 5,
     "metadata": {},
     "output_type": "execute_result"
    }
   ],
   "source": [
    "train_df.isnull().sum()"
   ]
  },
  {
   "cell_type": "code",
   "execution_count": 6,
   "id": "972a76db",
   "metadata": {
    "execution": {
     "iopub.execute_input": "2025-09-07T12:44:37.674643Z",
     "iopub.status.busy": "2025-09-07T12:44:37.674305Z",
     "iopub.status.idle": "2025-09-07T12:44:37.681759Z",
     "shell.execute_reply": "2025-09-07T12:44:37.680924Z"
    },
    "papermill": {
     "duration": 0.01524,
     "end_time": "2025-09-07T12:44:37.683276",
     "exception": false,
     "start_time": "2025-09-07T12:44:37.668036",
     "status": "completed"
    },
    "tags": []
   },
   "outputs": [
    {
     "data": {
      "text/plain": [
       "PassengerId      0\n",
       "Pclass           0\n",
       "Name             0\n",
       "Sex              0\n",
       "Age             86\n",
       "SibSp            0\n",
       "Parch            0\n",
       "Ticket           0\n",
       "Fare             1\n",
       "Cabin          327\n",
       "Embarked         0\n",
       "dtype: int64"
      ]
     },
     "execution_count": 6,
     "metadata": {},
     "output_type": "execute_result"
    }
   ],
   "source": [
    "test_df.isnull().sum()"
   ]
  },
  {
   "cell_type": "markdown",
   "id": "9fd7b0a5",
   "metadata": {
    "papermill": {
     "duration": 0.005246,
     "end_time": "2025-09-07T12:44:37.694897",
     "exception": false,
     "start_time": "2025-09-07T12:44:37.689651",
     "status": "completed"
    },
    "tags": []
   },
   "source": [
    "# **Mutual Information**\n",
    "\n",
    "To select the most informative features for predicting survival, I computed Mutual Information scores between each input variable and the target (Survived). MI quantifies the dependency between variables, capturing both linear and non-linear relationships. Based on the scores, I retained features with the highest predictive power, such as Sex, Pclass,Age ,SibSp and Fare.”\n",
    "Higher MI score = stronger relationship with the target."
   ]
  },
  {
   "cell_type": "code",
   "execution_count": 7,
   "id": "25588b4f",
   "metadata": {
    "execution": {
     "iopub.execute_input": "2025-09-07T12:44:37.707733Z",
     "iopub.status.busy": "2025-09-07T12:44:37.707362Z",
     "iopub.status.idle": "2025-09-07T12:44:37.717753Z",
     "shell.execute_reply": "2025-09-07T12:44:37.716905Z"
    },
    "papermill": {
     "duration": 0.018647,
     "end_time": "2025-09-07T12:44:37.719459",
     "exception": false,
     "start_time": "2025-09-07T12:44:37.700812",
     "status": "completed"
    },
    "tags": []
   },
   "outputs": [],
   "source": [
    "\n",
    "\n",
    "#fill the missing values of train_df\n",
    "train_df.fillna(train_df.Age.median(),inplace=True)\n",
    "\n",
    "#fill the missing values of test_df\n",
    "test_df.fillna(test_df['Age'].median(),inplace=True)\n",
    "test_df.fillna(test_df['Fare'].median(),inplace=True)"
   ]
  },
  {
   "cell_type": "code",
   "execution_count": 8,
   "id": "ca2f956e",
   "metadata": {
    "execution": {
     "iopub.execute_input": "2025-09-07T12:44:37.733618Z",
     "iopub.status.busy": "2025-09-07T12:44:37.733205Z",
     "iopub.status.idle": "2025-09-07T12:44:37.746041Z",
     "shell.execute_reply": "2025-09-07T12:44:37.745118Z"
    },
    "papermill": {
     "duration": 0.021597,
     "end_time": "2025-09-07T12:44:37.747451",
     "exception": false,
     "start_time": "2025-09-07T12:44:37.725854",
     "status": "completed"
    },
    "tags": []
   },
   "outputs": [],
   "source": [
    "#change the gender to numbers\n",
    "train_df['Sex'] = np.where(train_df['Sex'].str.lower().str.strip() == 'male', 0,\n",
    "                   np.where(train_df['Sex'].str.lower().str.strip() == 'female', 1, -1))\n",
    "\n",
    "\n",
    "test_df['Sex'] = np.where(test_df['Sex'].str.lower().str.strip() == 'male', 0,\n",
    "                   np.where(test_df['Sex'].str.lower().str.strip() == 'female', 1, -1))"
   ]
  },
  {
   "cell_type": "code",
   "execution_count": 9,
   "id": "f15380ea",
   "metadata": {
    "execution": {
     "iopub.execute_input": "2025-09-07T12:44:37.760108Z",
     "iopub.status.busy": "2025-09-07T12:44:37.759814Z",
     "iopub.status.idle": "2025-09-07T12:44:39.099983Z",
     "shell.execute_reply": "2025-09-07T12:44:39.098985Z"
    },
    "papermill": {
     "duration": 1.348099,
     "end_time": "2025-09-07T12:44:39.101443",
     "exception": false,
     "start_time": "2025-09-07T12:44:37.753344",
     "status": "completed"
    },
    "tags": []
   },
   "outputs": [
    {
     "data": {
      "text/plain": [
       "Text(0, 0.5, 'Feature')"
      ]
     },
     "execution_count": 9,
     "metadata": {},
     "output_type": "execute_result"
    },
    {
     "data": {
      "image/png": "[encoded data removed]",
      "text/plain": [
       "<Figure size 800x500 with 1 Axes>"
      ]
     },
     "metadata": {},
     "output_type": "display_data"
    }
   ],
   "source": [
    "train_df['FamilySize'] = train_df['SibSp'] + train_df['Parch'] + 1\n",
    "\n",
    "test_df['FamilySize'] = test_df['SibSp'] + test_df['Parch'] + 1\n",
    "\n",
    "# Select features and target\n",
    "X = train_df[['Pclass', 'Sex', 'Age', 'FamilySize', 'Fare']]\n",
    "y = train_df['Survived']\n",
    "\n",
    "from sklearn.feature_selection import mutual_info_classif\n",
    "\n",
    "# Compute MI scores\n",
    "mi_scores = mutual_info_classif(X, y, discrete_features='auto')\n",
    "\n",
    "# Create a DataFrame for plotting\n",
    "mi_df = pd.DataFrame({'Feature': X.columns, 'MI Score': mi_scores})\n",
    "mi_df.sort_values('MI Score', ascending=False, inplace=True)\n",
    "\n",
    "\n",
    "import seaborn as sns\n",
    "import matplotlib.pyplot as plt\n",
    "\n",
    "sns.set_theme(style=\"whitegrid\")\n",
    "plt.figure(figsize=(8,5))\n",
    "sns.barplot(data=mi_df, x='MI Score', y='Feature', palette='viridis')\n",
    "plt.title(\"Mutual Information Scores for Titanic Features\")\n",
    "plt.xlabel(\"MI Score\")\n",
    "plt.ylabel(\"Feature\")"
   ]
  },
  {
   "cell_type": "markdown",
   "id": "67198496",
   "metadata": {
    "papermill": {
     "duration": 0.006415,
     "end_time": "2025-09-07T12:44:39.114385",
     "exception": false,
     "start_time": "2025-09-07T12:44:39.107970",
     "status": "completed"
    },
    "tags": []
   },
   "source": [
    "Based on the Mi scores above we can select useful features that will help us create a better predictive model.\n",
    "so the features will be Sex,Fare,Pclass ,Family size and Age"
   ]
  },
  {
   "cell_type": "code",
   "execution_count": 10,
   "id": "ab8e8bba",
   "metadata": {
    "execution": {
     "iopub.execute_input": "2025-09-07T12:44:39.128934Z",
     "iopub.status.busy": "2025-09-07T12:44:39.128350Z",
     "iopub.status.idle": "2025-09-07T12:44:39.133436Z",
     "shell.execute_reply": "2025-09-07T12:44:39.132388Z"
    },
    "papermill": {
     "duration": 0.013777,
     "end_time": "2025-09-07T12:44:39.135161",
     "exception": false,
     "start_time": "2025-09-07T12:44:39.121384",
     "status": "completed"
    },
    "tags": []
   },
   "outputs": [],
   "source": [
    "features=['Sex','Fare','Pclass','FamilySize','Age']"
   ]
  },
  {
   "cell_type": "markdown",
   "id": "0800c271",
   "metadata": {
    "papermill": {
     "duration": 0.00602,
     "end_time": "2025-09-07T12:44:39.147554",
     "exception": false,
     "start_time": "2025-09-07T12:44:39.141534",
     "status": "completed"
    },
    "tags": []
   },
   "source": [
    "#  Modeling**\n",
    "Algorithms tested:\n",
    "\n",
    "1. Logistic Regression\n",
    "2. Random Forest\n",
    "\n",
    "\n"
   ]
  },
  {
   "cell_type": "markdown",
   "id": "9be6f069",
   "metadata": {
    "papermill": {
     "duration": 0.005972,
     "end_time": "2025-09-07T12:44:39.159751",
     "exception": false,
     "start_time": "2025-09-07T12:44:39.153779",
     "status": "completed"
    },
    "tags": []
   },
   "source": [
    "# **1. Logistic Regression**\n",
    "\n",
    "Logistic regression is a classification algorithm used to predict binary outcomes — in this case, whether a passenger survived (1) or did not survive (0).\n",
    "\n"
   ]
  },
  {
   "cell_type": "markdown",
   "id": "e720b1fc",
   "metadata": {
    "papermill": {
     "duration": 0.006031,
     "end_time": "2025-09-07T12:44:39.172223",
     "exception": false,
     "start_time": "2025-09-07T12:44:39.166192",
     "status": "completed"
    },
    "tags": []
   },
   "source": [
    "We will train the model using the train.csv and make predictions using test.csv"
   ]
  },
  {
   "cell_type": "code",
   "execution_count": 11,
   "id": "a8370068",
   "metadata": {
    "execution": {
     "iopub.execute_input": "2025-09-07T12:44:39.185884Z",
     "iopub.status.busy": "2025-09-07T12:44:39.185480Z",
     "iopub.status.idle": "2025-09-07T12:44:39.193613Z",
     "shell.execute_reply": "2025-09-07T12:44:39.192676Z"
    },
    "papermill": {
     "duration": 0.016847,
     "end_time": "2025-09-07T12:44:39.195307",
     "exception": false,
     "start_time": "2025-09-07T12:44:39.178460",
     "status": "completed"
    },
    "tags": []
   },
   "outputs": [],
   "source": [
    "#train the model using the train_df\n",
    "X = train_df[features]\n",
    "y = train_df['Survived']\n",
    "\n",
    "#X_test is the data we will use for predicting a our model \n",
    "X_test = test_df[features]\n",
    "\n"
   ]
  },
  {
   "cell_type": "code",
   "execution_count": 12,
   "id": "dcb60a4a",
   "metadata": {
    "execution": {
     "iopub.execute_input": "2025-09-07T12:44:39.209792Z",
     "iopub.status.busy": "2025-09-07T12:44:39.209284Z",
     "iopub.status.idle": "2025-09-07T12:44:39.513359Z",
     "shell.execute_reply": "2025-09-07T12:44:39.509982Z"
    },
    "papermill": {
     "duration": 0.317335,
     "end_time": "2025-09-07T12:44:39.518777",
     "exception": false,
     "start_time": "2025-09-07T12:44:39.201442",
     "status": "completed"
    },
    "tags": []
   },
   "outputs": [],
   "source": [
    "\n",
    "from sklearn.model_selection import train_test_split\n",
    "\n",
    "\n",
    "X_train, X_val, y_train, y_val = train_test_split(X, y, random_state=1)\n",
    "\n",
    "\n",
    "model_l=LogisticRegression()\n",
    "model_l.fit(X_train,y_train)\n",
    "\n",
    "y_pred=model_l.predict(X_val)\n",
    "final_pred=model_l.predict(X_test)\n",
    "\n"
   ]
  },
  {
   "cell_type": "code",
   "execution_count": 13,
   "id": "688e92a6",
   "metadata": {
    "execution": {
     "iopub.execute_input": "2025-09-07T12:44:39.540459Z",
     "iopub.status.busy": "2025-09-07T12:44:39.540116Z",
     "iopub.status.idle": "2025-09-07T12:44:39.563617Z",
     "shell.execute_reply": "2025-09-07T12:44:39.562663Z"
    },
    "papermill": {
     "duration": 0.037424,
     "end_time": "2025-09-07T12:44:39.566405",
     "exception": false,
     "start_time": "2025-09-07T12:44:39.528981",
     "status": "completed"
    },
    "tags": []
   },
   "outputs": [
    {
     "data": {
      "text/html": [
       "<div>\n",
       "<style scoped>\n",
       "    .dataframe tbody tr th:only-of-type {\n",
       "        vertical-align: middle;\n",
       "    }\n",
       "\n",
       "    .dataframe tbody tr th {\n",
       "        vertical-align: top;\n",
       "    }\n",
       "\n",
       "    .dataframe thead th {\n",
       "        text-align: right;\n",
       "    }\n",
       "</style>\n",
       "<table border=\"1\" class=\"dataframe\">\n",
       "  <thead>\n",
       "    <tr style=\"text-align: right;\">\n",
       "      <th></th>\n",
       "      <th>PassengerId</th>\n",
       "      <th>Survived</th>\n",
       "    </tr>\n",
       "  </thead>\n",
       "  <tbody>\n",
       "    <tr>\n",
       "      <th>0</th>\n",
       "      <td>892</td>\n",
       "      <td>0</td>\n",
       "    </tr>\n",
       "    <tr>\n",
       "      <th>1</th>\n",
       "      <td>893</td>\n",
       "      <td>0</td>\n",
       "    </tr>\n",
       "    <tr>\n",
       "      <th>2</th>\n",
       "      <td>894</td>\n",
       "      <td>0</td>\n",
       "    </tr>\n",
       "    <tr>\n",
       "      <th>3</th>\n",
       "      <td>895</td>\n",
       "      <td>0</td>\n",
       "    </tr>\n",
       "    <tr>\n",
       "      <th>4</th>\n",
       "      <td>896</td>\n",
       "      <td>1</td>\n",
       "    </tr>\n",
       "    <tr>\n",
       "      <th>...</th>\n",
       "      <td>...</td>\n",
       "      <td>...</td>\n",
       "    </tr>\n",
       "    <tr>\n",
       "      <th>413</th>\n",
       "      <td>1305</td>\n",
       "      <td>0</td>\n",
       "    </tr>\n",
       "    <tr>\n",
       "      <th>414</th>\n",
       "      <td>1306</td>\n",
       "      <td>1</td>\n",
       "    </tr>\n",
       "    <tr>\n",
       "      <th>415</th>\n",
       "      <td>1307</td>\n",
       "      <td>0</td>\n",
       "    </tr>\n",
       "    <tr>\n",
       "      <th>416</th>\n",
       "      <td>1308</td>\n",
       "      <td>0</td>\n",
       "    </tr>\n",
       "    <tr>\n",
       "      <th>417</th>\n",
       "      <td>1309</td>\n",
       "      <td>0</td>\n",
       "    </tr>\n",
       "  </tbody>\n",
       "</table>\n",
       "<p>418 rows × 2 columns</p>\n",
       "</div>"
      ],
      "text/plain": [
       "     PassengerId  Survived\n",
       "0            892         0\n",
       "1            893         0\n",
       "2            894         0\n",
       "3            895         0\n",
       "4            896         1\n",
       "..           ...       ...\n",
       "413         1305         0\n",
       "414         1306         1\n",
       "415         1307         0\n",
       "416         1308         0\n",
       "417         1309         0\n",
       "\n",
       "[418 rows x 2 columns]"
      ]
     },
     "execution_count": 13,
     "metadata": {},
     "output_type": "execute_result"
    }
   ],
   "source": [
    "submission = pd.DataFrame({\n",
    "    'PassengerId': test_df['PassengerId'],\n",
    "    'Survived': final_pred\n",
    "})\n",
    "\n",
    "submission.to_csv('submission_0.csv', index=False)\n",
    "\n",
    "submission"
   ]
  },
  {
   "cell_type": "markdown",
   "id": "fe5972e4",
   "metadata": {
    "papermill": {
     "duration": 0.01086,
     "end_time": "2025-09-07T12:44:39.588365",
     "exception": false,
     "start_time": "2025-09-07T12:44:39.577505",
     "status": "completed"
    },
    "tags": []
   },
   "source": [
    "# **2.Random Forest**\n",
    "\n",
    "Random Forest Works Well Here\n",
    "\n",
    "1. Handles both numerical and categorical data.\n",
    "2. Captures non-linear relationships.\n",
    "3. Robust to outliers and missing data.\n",
    "4. Provides feature importance for interpretability.\n",
    "\n",
    "\n",
    "\n",
    "\n",
    "\n",
    "\n"
   ]
  },
  {
   "cell_type": "code",
   "execution_count": 14,
   "id": "182b963e",
   "metadata": {
    "execution": {
     "iopub.execute_input": "2025-09-07T12:44:39.611626Z",
     "iopub.status.busy": "2025-09-07T12:44:39.609808Z",
     "iopub.status.idle": "2025-09-07T12:44:40.001422Z",
     "shell.execute_reply": "2025-09-07T12:44:40.000308Z"
    },
    "papermill": {
     "duration": 0.404732,
     "end_time": "2025-09-07T12:44:40.003238",
     "exception": false,
     "start_time": "2025-09-07T12:44:39.598506",
     "status": "completed"
    },
    "tags": []
   },
   "outputs": [],
   "source": [
    "from sklearn.ensemble import RandomForestClassifier\n",
    "from sklearn.model_selection import train_test_split\n",
    "from sklearn.metrics import accuracy_score, confusion_matrix\n",
    "\n",
    "# Split data\n",
    "X_train, X_val, y_train, y_val = train_test_split(X, y, random_state=1)\n",
    "\n",
    "# Train model\n",
    "model = RandomForestClassifier( random_state=1)\n",
    "model.fit(X_train, y_train)\n",
    "\n",
    "# Predict\n",
    "y_pred = model.predict(X_val)\n",
    "\n",
    "final_prediction=model.predict(X_test)\n"
   ]
  },
  {
   "cell_type": "code",
   "execution_count": 15,
   "id": "e1ab6539",
   "metadata": {
    "execution": {
     "iopub.execute_input": "2025-09-07T12:44:40.018804Z",
     "iopub.status.busy": "2025-09-07T12:44:40.017749Z",
     "iopub.status.idle": "2025-09-07T12:44:40.030821Z",
     "shell.execute_reply": "2025-09-07T12:44:40.029704Z"
    },
    "papermill": {
     "duration": 0.022202,
     "end_time": "2025-09-07T12:44:40.032272",
     "exception": false,
     "start_time": "2025-09-07T12:44:40.010070",
     "status": "completed"
    },
    "tags": []
   },
   "outputs": [
    {
     "data": {
      "text/html": [
       "<div>\n",
       "<style scoped>\n",
       "    .dataframe tbody tr th:only-of-type {\n",
       "        vertical-align: middle;\n",
       "    }\n",
       "\n",
       "    .dataframe tbody tr th {\n",
       "        vertical-align: top;\n",
       "    }\n",
       "\n",
       "    .dataframe thead th {\n",
       "        text-align: right;\n",
       "    }\n",
       "</style>\n",
       "<table border=\"1\" class=\"dataframe\">\n",
       "  <thead>\n",
       "    <tr style=\"text-align: right;\">\n",
       "      <th></th>\n",
       "      <th>PassengerId</th>\n",
       "      <th>Survived</th>\n",
       "    </tr>\n",
       "  </thead>\n",
       "  <tbody>\n",
       "    <tr>\n",
       "      <th>0</th>\n",
       "      <td>892</td>\n",
       "      <td>0</td>\n",
       "    </tr>\n",
       "    <tr>\n",
       "      <th>1</th>\n",
       "      <td>893</td>\n",
       "      <td>0</td>\n",
       "    </tr>\n",
       "    <tr>\n",
       "      <th>2</th>\n",
       "      <td>894</td>\n",
       "      <td>0</td>\n",
       "    </tr>\n",
       "    <tr>\n",
       "      <th>3</th>\n",
       "      <td>895</td>\n",
       "      <td>0</td>\n",
       "    </tr>\n",
       "    <tr>\n",
       "      <th>4</th>\n",
       "      <td>896</td>\n",
       "      <td>0</td>\n",
       "    </tr>\n",
       "    <tr>\n",
       "      <th>...</th>\n",
       "      <td>...</td>\n",
       "      <td>...</td>\n",
       "    </tr>\n",
       "    <tr>\n",
       "      <th>413</th>\n",
       "      <td>1305</td>\n",
       "      <td>0</td>\n",
       "    </tr>\n",
       "    <tr>\n",
       "      <th>414</th>\n",
       "      <td>1306</td>\n",
       "      <td>1</td>\n",
       "    </tr>\n",
       "    <tr>\n",
       "      <th>415</th>\n",
       "      <td>1307</td>\n",
       "      <td>0</td>\n",
       "    </tr>\n",
       "    <tr>\n",
       "      <th>416</th>\n",
       "      <td>1308</td>\n",
       "      <td>0</td>\n",
       "    </tr>\n",
       "    <tr>\n",
       "      <th>417</th>\n",
       "      <td>1309</td>\n",
       "      <td>0</td>\n",
       "    </tr>\n",
       "  </tbody>\n",
       "</table>\n",
       "<p>418 rows × 2 columns</p>\n",
       "</div>"
      ],
      "text/plain": [
       "     PassengerId  Survived\n",
       "0            892         0\n",
       "1            893         0\n",
       "2            894         0\n",
       "3            895         0\n",
       "4            896         0\n",
       "..           ...       ...\n",
       "413         1305         0\n",
       "414         1306         1\n",
       "415         1307         0\n",
       "416         1308         0\n",
       "417         1309         0\n",
       "\n",
       "[418 rows x 2 columns]"
      ]
     },
     "execution_count": 15,
     "metadata": {},
     "output_type": "execute_result"
    }
   ],
   "source": [
    "submission = pd.DataFrame({\n",
    "    'PassengerId': test_df['PassengerId'],\n",
    "    'Survived': final_prediction\n",
    "})\n",
    "\n",
    "submission.to_csv('submission_1.csv', index=False)\n",
    "\n",
    "submission"
   ]
  },
  {
   "cell_type": "markdown",
   "id": "a11f0502",
   "metadata": {
    "papermill": {
     "duration": 0.006406,
     "end_time": "2025-09-07T12:44:40.046167",
     "exception": false,
     "start_time": "2025-09-07T12:44:40.039761",
     "status": "completed"
    },
    "tags": []
   },
   "source": [
    "# **Evaluating the best model**\n",
    "\n",
    "To evaluate model performance reliably, I applied cross-validation using cross_val_score from scikit-learn. This technique splits the training data into multiple folds, trains the model on each fold, and averages the results to reduce bias from a single train-test split.\n",
    "\n",
    "I compared Logistic Regression and Random Forest. Random Forest consistently achieved the highest average accuracy across folds, indicating strong generalization and robustness to overfitting.\n",
    "\n",
    "This result suggests that Random Forest captures complex patterns in the data — such as interactions between features like Sex, Pclass, and FamilySize — better than linear models."
   ]
  },
  {
   "cell_type": "code",
   "execution_count": 16,
   "id": "5d859f2e",
   "metadata": {
    "execution": {
     "iopub.execute_input": "2025-09-07T12:44:40.060256Z",
     "iopub.status.busy": "2025-09-07T12:44:40.059983Z",
     "iopub.status.idle": "2025-09-07T12:44:42.579031Z",
     "shell.execute_reply": "2025-09-07T12:44:42.577701Z"
    },
    "papermill": {
     "duration": 2.528356,
     "end_time": "2025-09-07T12:44:42.580858",
     "exception": false,
     "start_time": "2025-09-07T12:44:40.052502",
     "status": "completed"
    },
    "tags": []
   },
   "outputs": [
    {
     "name": "stdout",
     "output_type": "stream",
     "text": [
      "Logistic Regression CV Accuracy: 0.7912497646098802\n",
      "Random Forest CV Accuracy: 0.8148578243675851\n"
     ]
    }
   ],
   "source": [
    "\n",
    "from sklearn.model_selection import cross_val_score\n",
    "\n",
    "# Logistic Regression\n",
    "log_scores = cross_val_score(LogisticRegression(), X, y, cv=5)\n",
    "print(\"Logistic Regression CV Accuracy:\", log_scores.mean())\n",
    "\n",
    "# Random Forest\n",
    "rf_scores = cross_val_score(RandomForestClassifier(), X, y, cv=5)\n",
    "print(\"Random Forest CV Accuracy:\", rf_scores.mean())\n"
   ]
  },
  {
   "cell_type": "markdown",
   "id": "0d0427b9",
   "metadata": {
    "papermill": {
     "duration": 0.006438,
     "end_time": "2025-09-07T12:44:42.594699",
     "exception": false,
     "start_time": "2025-09-07T12:44:42.588261",
     "status": "completed"
    },
    "tags": []
   },
   "source": [
    "# **Feature importance**"
   ]
  },
  {
   "cell_type": "code",
   "execution_count": 17,
   "id": "830118c7",
   "metadata": {
    "execution": {
     "iopub.execute_input": "2025-09-07T12:44:42.609947Z",
     "iopub.status.busy": "2025-09-07T12:44:42.609621Z",
     "iopub.status.idle": "2025-09-07T12:44:42.843861Z",
     "shell.execute_reply": "2025-09-07T12:44:42.842839Z"
    },
    "papermill": {
     "duration": 0.243702,
     "end_time": "2025-09-07T12:44:42.845644",
     "exception": false,
     "start_time": "2025-09-07T12:44:42.601942",
     "status": "completed"
    },
    "tags": []
   },
   "outputs": [
    {
     "data": {
      "image/png": "[encoded data removed]",
      "text/plain": [
       "<Figure size 800x500 with 1 Axes>"
      ]
     },
     "metadata": {},
     "output_type": "display_data"
    }
   ],
   "source": [
    "import matplotlib.pyplot as plt\n",
    "import pandas as pd\n",
    "import seaborn as sns\n",
    "\n",
    "feature_importance = pd.Series(model.feature_importances_, index=features).sort_values(ascending=False)\n",
    "\n",
    "plt.figure(figsize=(8,5))\n",
    "sns.barplot(x=feature_importance.values, y=feature_importance.index)\n",
    "plt.title(\"Feature Importance in Survival Prediction\")\n",
    "plt.xlabel(\"Importance Score\")\n",
    "plt.show()\n"
   ]
  },
  {
   "cell_type": "markdown",
   "id": "fac1f8d7",
   "metadata": {
    "papermill": {
     "duration": 0.006709,
     "end_time": "2025-09-07T12:44:42.859736",
     "exception": false,
     "start_time": "2025-09-07T12:44:42.853027",
     "status": "completed"
    },
    "tags": []
   },
   "source": [
    "# ** Conclusion**\n",
    "\n",
    "The model successfully predicts survival with reasonable accuracy. Feature importance aligns with historical accounts, demonstrating how data science can uncover patterns in real-world events."
   ]
  }
 ],
 "metadata": {
  "kaggle": {
   "accelerator": "none",
   "dataSources": [
    {
     "databundleVersionId": 26502,
     "sourceId": 3136,
     "sourceType": "competition"
    }
   ],
   "dockerImageVersionId": 31089,
   "isGpuEnabled": false,
   "isInternetEnabled": true,
   "language": "python",
   "sourceType": "notebook"
  },
  "kernelspec": {
   "display_name": "Python 3",
   "language": "python",
   "name": "python3"
  },
  "language_info": {
   "codemirror_mode": {
    "name": "ipython",
    "version": 3
   },
   "file_extension": ".py",
   "mimetype": "text/x-python",
   "name": "python",
   "nbconvert_exporter": "python",
   "pygments_lexer": "ipython3",
   "version": "3.11.13"
  },
  "papermill": {
   "default_parameters": {},
   "duration": 16.526624,
   "end_time": "2025-09-07T12:44:43.689381",
   "environment_variables": {},
   "exception": null,
   "input_path": "__notebook__.ipynb",
   "output_path": "__notebook__.ipynb",
   "parameters": {},
   "start_time": "2025-09-07T12:44:27.162757",
   "version": "2.6.0"
  }
 },
 "nbformat": 4,
 "nbformat_minor": 5
}
